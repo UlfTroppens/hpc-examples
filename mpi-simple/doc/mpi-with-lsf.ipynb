{
 "cells": [
  {
   "cell_type": "markdown",
   "metadata": {},
   "source": [
    "# Launching MPI jobs via a scheduler "
   ]
  },
  {
   "cell_type": "markdown",
   "metadata": {},
   "source": [
    "With `mpiexec` each user needs to decide, how many application instances to be launched on each node. A more convenient and effective approach is to have a scheduler to manage all resources and let the scheduler make this decision."
   ]
  },
  {
   "cell_type": "markdown",
   "metadata": {},
   "source": [
    "-----\n"
   ]
  },
  {
   "cell_type": "markdown",
   "metadata": {},
   "source": [
    "In the previous examples we learned that the `-host` option of the MPI command `mpiexec` allows a user to specify how many application instances to start on each node. For this example we use a [C program that we compiled earlier](../mpi-hello-world.c).\n",
    "<br><br>\n",
    "As refresher we start one application instance on node `c1` and two application instances on node `c2`."
   ]
  },
  {
   "cell_type": "code",
   "execution_count": 1,
   "metadata": {},
   "outputs": [
    {
     "name": "stdout",
     "output_type": "stream",
     "text": [
      "My size is 3. My rank is 0. I am running on c1.\n",
      "My size is 3. My rank is 1. I am running on c2.\n",
      "My size is 3. My rank is 2. I am running on c2.\n"
     ]
    }
   ],
   "source": [
    "!mpiexec -hosts c1,c2:2 /hpclab/users/ulf/hpc-examples/mpi-simple/mpi-hello-world"
   ]
  },
  {
   "cell_type": "markdown",
   "metadata": {},
   "source": [
    "-----"
   ]
  },
  {
   "cell_type": "markdown",
   "metadata": {},
   "source": [
    "For this example we use IBM Spectrum LSF as scheduler, but you can use any other scheduler too. In LSF a job slot is the basic unit of processor allocation. The LSF command `bslots` reports the currently available slots. For instance, three free slots are required to run\n",
    "an application with in total three application instances. Let's see the presently free slots of our environment."
   ]
  },
  {
   "cell_type": "code",
   "execution_count": 1,
   "metadata": {},
   "outputs": [
    {
     "name": "stdout",
     "output_type": "stream",
     "text": [
      "SLOTS          RUNTIME\n",
      "6              UNLIMITED\n"
     ]
    }
   ],
   "source": [
    "!bslots"
   ]
  },
  {
   "cell_type": "markdown",
   "metadata": {},
   "source": [
    "So, we have six slots. That means in this moment there are free resources for six application instances. We do not know which nodes have the free resources, but that is OK, because it is the scheduler's responsibility to know the available resourcess and to assign incoming jobs respectively.\n",
    "<br><br>\n",
    "The LSF command `bsub` allows users to run any executable on a compute cluster. LSF decides based on configurable rules, on which nodes to run each job. The following command runs the Linux uptime command. LSF launches the job, as soon as there is one free slot. Per default LSF redirects all output to a logfile. In interactive mode (`-I`) LSF prints all output to the screen."
   ]
  },
  {
   "cell_type": "code",
   "execution_count": 2,
   "metadata": {},
   "outputs": [
    {
     "name": "stdout",
     "output_type": "stream",
     "text": [
      "Job <12> is submitted to default queue <interactive>.\n",
      "<<Waiting for dispatch ...>>\n",
      "<<Starting on m1>>\n",
      " 22:00:42 up 19 days,  3:16,  2 users,  load average: 0.02, 0.04, 0.05\n"
     ]
    }
   ],
   "source": [
    "!bsub -I uptime"
   ]
  },
  {
   "cell_type": "markdown",
   "metadata": {},
   "source": [
    "-----"
   ]
  },
  {
   "cell_type": "markdown",
   "metadata": {},
   "source": [
    "To start an MPI application via LSF, we need to tell LSF how many application instances we desire to run using the option `-n` of the LSF command `bsub`. LSF then determines on which nodes to start how many instances and passes this information to `mpiexec`. Therefore we do not need to specify the option `-hosts` for the MPI command `mpiexec`."
   ]
  },
  {
   "cell_type": "code",
   "execution_count": 3,
   "metadata": {},
   "outputs": [
    {
     "name": "stdout",
     "output_type": "stream",
     "text": [
      "Job <13> is submitted to default queue <interactive>.\n",
      "<<Waiting for dispatch ...>>\n",
      "<<Starting on m1>>\n",
      "My size is 3. My rank is 0. I am running on m1.\n",
      "My size is 3. My rank is 2. I am running on c1.\n",
      "My size is 3. My rank is 1. I am running on m1.\n"
     ]
    }
   ],
   "source": [
    "!bsub -I -n 3 mpiexec /hpclab/users/ulf/hpc-examples/mpi-simple/mpi-hello-world"
   ]
  },
  {
   "cell_type": "markdown",
   "metadata": {},
   "source": [
    "If we run the same command again, then LSF may decide to start the application instances on the same nodes or on different nodes. Though, this does not matter from the end user perspective as we get the results in time."
   ]
  },
  {
   "cell_type": "code",
   "execution_count": 4,
   "metadata": {},
   "outputs": [
    {
     "name": "stdout",
     "output_type": "stream",
     "text": [
      "Job <14> is submitted to default queue <interactive>.\n",
      "<<Waiting for dispatch ...>>\n",
      "<<Starting on c1>>\n",
      "My size is 3. My rank is 0. I am running on c1.\n",
      "My size is 3. My rank is 1. I am running on c1.\n",
      "My size is 3. My rank is 2. I am running on c2.\n"
     ]
    }
   ],
   "source": [
    "!bsub -I -n 3 mpiexec /hpclab/users/ulf/hpc-examples/mpi-simple/mpi-hello-world"
   ]
  },
  {
   "cell_type": "markdown",
   "metadata": {},
   "source": [
    "-----"
   ]
  },
  {
   "cell_type": "markdown",
   "metadata": {},
   "source": [
    "This was a brief introduction in sending and recieiving messages in MPI programs. See my [HPClab](https://www.beyond-storage.com/hpc-lab) for more [MPI examples](https://www.beyond-storage.com/examples-mpi) and more [LSF examples](https://www.beyond-storage.com/examples-lsf)."
   ]
  },
  {
   "cell_type": "markdown",
   "metadata": {},
   "source": [
    "-----"
   ]
  }
 ],
 "metadata": {
  "kernelspec": {
   "display_name": "Python 2",
   "language": "python",
   "name": "python2"
  },
  "language_info": {
   "codemirror_mode": {
    "name": "ipython",
    "version": 2
   },
   "file_extension": ".py",
   "mimetype": "text/x-python",
   "name": "python",
   "nbconvert_exporter": "python",
   "pygments_lexer": "ipython2",
   "version": "2.7.16"
  }
 },
 "nbformat": 4,
 "nbformat_minor": 2
}
