{
 "cells": [
  {
   "cell_type": "markdown",
   "metadata": {},
   "source": [
    "# mpiexec - Run an MPI program"
   ]
  },
  {
   "cell_type": "markdown",
   "metadata": {},
   "source": [
    "The program `mpiexec` starts one or more instances of the same executable on one or more servers. `mpiexec` can start any kind of executable. For this exercise we just run the Linux command `hostname` to report on which server the respective instance is executing."
   ]
  },
  {
   "cell_type": "markdown",
   "metadata": {},
   "source": [
    "-----\n"
   ]
  },
  {
   "cell_type": "markdown",
   "metadata": {},
   "source": [
    "Per default `mpiexec` lauches one application instance on the node where it is executed.\n",
    "<br>\n",
    "So, lets first get the hostname of our server from the Linux command `hostname`:"
   ]
  },
  {
   "cell_type": "code",
   "execution_count": 1,
   "metadata": {},
   "outputs": [
    {
     "name": "stdout",
     "output_type": "stream",
     "text": [
      "m1\n"
     ]
    }
   ],
   "source": [
    "!hostname"
   ]
  },
  {
   "cell_type": "markdown",
   "metadata": {},
   "source": [
    "Let's check that we get the same hostname if we start a single instance of the Linux command `hostname` via the program `mpiexec`:"
   ]
  },
  {
   "cell_type": "code",
   "execution_count": 2,
   "metadata": {},
   "outputs": [
    {
     "name": "stdout",
     "output_type": "stream",
     "text": [
      "m1\n"
     ]
    }
   ],
   "source": [
    "!mpiexec hostname"
   ]
  },
  {
   "cell_type": "markdown",
   "metadata": {},
   "source": [
    "_____"
   ]
  },
  {
   "cell_type": "markdown",
   "metadata": {},
   "source": [
    "The option `-hosts` tells `mpiexec` how many instances of the application to start on each server.\n",
    "<br>\n",
    "Let's start one instance of `hostname` on another server:"
   ]
  },
  {
   "cell_type": "code",
   "execution_count": 3,
   "metadata": {},
   "outputs": [
    {
     "name": "stdout",
     "output_type": "stream",
     "text": [
      "c1\n"
     ]
    }
   ],
   "source": [
    "!mpiexec -host c1 hostname"
   ]
  },
  {
   "cell_type": "markdown",
   "metadata": {},
   "source": [
    "The `-host` option allows to specify more than one server to start the programm on multiple servers:"
   ]
  },
  {
   "cell_type": "code",
   "execution_count": 4,
   "metadata": {},
   "outputs": [
    {
     "name": "stdout",
     "output_type": "stream",
     "text": [
      "m1\n",
      "c1\n"
     ]
    }
   ],
   "source": [
    "!mpiexec -host m1,c1 hostname"
   ]
  },
  {
   "cell_type": "markdown",
   "metadata": {},
   "source": [
    "Finally, it is possible to specify how many application instances will be started on each host:"
   ]
  },
  {
   "cell_type": "code",
   "execution_count": 5,
   "metadata": {},
   "outputs": [
    {
     "name": "stdout",
     "output_type": "stream",
     "text": [
      "m1\n",
      "m1\n",
      "c1\n",
      "c1\n",
      "c1\n"
     ]
    }
   ],
   "source": [
    "!mpiexec -host m1:2,c1:3 hostname"
   ]
  },
  {
   "cell_type": "markdown",
   "metadata": {},
   "source": [
    "------"
   ]
  },
  {
   "cell_type": "markdown",
   "metadata": {},
   "source": [
    "Getting started with MPI, I stumbled over two small pitfalls.\n",
    "<br>\n",
    "<br>\n",
    "1) The executable to be started with `mpiexec` must be available on each server.\n",
    "<br>\n",
    "Otherwise you will get the following error message:"
   ]
  },
  {
   "cell_type": "code",
   "execution_count": 6,
   "metadata": {},
   "outputs": [
    {
     "name": "stdout",
     "output_type": "stream",
     "text": [
      "[proxy:0:0@c1] HYDU_create_process (./utils/launch/launch.c:75): execvp error on file /path/to/nowhere (No such file or directory)\n",
      "\n",
      "===================================================================================\n",
      "=   BAD TERMINATION OF ONE OF YOUR APPLICATION PROCESSES\n",
      "=   EXIT CODE: 255\n",
      "=   CLEANING UP REMAINING PROCESSES\n",
      "=   YOU CAN IGNORE THE BELOW CLEANUP MESSAGES\n",
      "===================================================================================\n"
     ]
    }
   ],
   "source": [
    "!mpiexec -host c1 /path/to/nowhere"
   ]
  },
  {
   "cell_type": "markdown",
   "metadata": {},
   "source": [
    "2) The directory path from where `mpiexec`is exected needs to be available on all remote servers.\n",
    "<br>\n",
    "If that path is not available, then you will get the following error message:"
   ]
  },
  {
   "cell_type": "code",
   "execution_count": 7,
   "metadata": {},
   "outputs": [
    {
     "name": "stdout",
     "output_type": "stream",
     "text": [
      "[mpiexec@m1] match_arg (./utils/args/args.c:160): unrecognized argument c2\n",
      "[mpiexec@m1] HYDU_parse_array (./utils/args/args.c:175): argument matching returned error\n",
      "[mpiexec@m1] parse_args (./ui/mpich/utils.c:1609): error parsing input array\n",
      "[mpiexec@m1] HYD_uii_mpx_get_parameters (./ui/mpich/utils.c:1660): unable to parse user arguments\n",
      "[mpiexec@m1] main (./ui/mpich/mpiexec.c:153): error parsing parameters\n"
     ]
    }
   ],
   "source": [
    "!mpiexec -c2 hostnmae"
   ]
  },
  {
   "cell_type": "markdown",
   "metadata": {},
   "source": [
    "These kind of pitfalls can be avoided, by using a [clustered file system](https://www.beyond-storage.com/clustered_file_system)."
   ]
  },
  {
   "cell_type": "markdown",
   "metadata": {},
   "source": [
    "-----"
   ]
  },
  {
   "cell_type": "markdown",
   "metadata": {},
   "source": [
    "This was a brief introduction into `mpiexec`. See my [HPClab](https://www.beyond-storage.com/hpclab) for more [MPI examples](https://www.beyond-storage.com/hpclab#mpi)."
   ]
  },
  {
   "cell_type": "markdown",
   "metadata": {},
   "source": [
    "-----"
   ]
  }
 ],
 "metadata": {
  "kernelspec": {
   "display_name": "Python 2",
   "language": "python",
   "name": "python2"
  },
  "language_info": {
   "codemirror_mode": {
    "name": "ipython",
    "version": 2
   },
   "file_extension": ".py",
   "mimetype": "text/x-python",
   "name": "python",
   "nbconvert_exporter": "python",
   "pygments_lexer": "ipython2",
   "version": "2.7.16"
  }
 },
 "nbformat": 4,
 "nbformat_minor": 2
}
