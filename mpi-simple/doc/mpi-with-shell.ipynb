{
 "cells": [
  {
   "cell_type": "markdown",
   "metadata": {},
   "source": [
    "# Getting started with MPI using a shell"
   ]
  },
  {
   "cell_type": "markdown",
   "metadata": {},
   "source": [
    "The MPI command `mpiexec` provides each started application instance environment variables that report the total number of application instances (`PMI_SIZE`) and the rank (`PMI_RANK`) of the respective application instance."
   ]
  },
  {
   "cell_type": "markdown",
   "metadata": {},
   "source": [
    "-----\n"
   ]
  },
  {
   "cell_type": "markdown",
   "metadata": {},
   "source": [
    "For this example we use a simple shell script that just prints `PMI_SIZE` an`PMI_RANK`."
   ]
  },
  {
   "cell_type": "code",
   "execution_count": 1,
   "metadata": {},
   "outputs": [
    {
     "name": "stdout",
     "output_type": "stream",
     "text": [
      "#!/bin/bash\n",
      "\n",
      "echo \"My size is $PMI_SIZE. My rank is $PMI_RANK.\"\n"
     ]
    }
   ],
   "source": [
    "!cat /hpclab/users/ulf/hpc-examples/mpi-simple/mpi.sh"
   ]
  },
  {
   "cell_type": "markdown",
   "metadata": {},
   "source": [
    "-----"
   ]
  },
  {
   "cell_type": "markdown",
   "metadata": {},
   "source": [
    "To verify that `PMI_SIZE` and `PMI_RANK` are provisioned by `mpiexec` we first start the script without `mpiexec` to check that the variables are not set."
   ]
  },
  {
   "cell_type": "code",
   "execution_count": 2,
   "metadata": {},
   "outputs": [
    {
     "name": "stdout",
     "output_type": "stream",
     "text": [
      "My size is . My rank is .\n"
     ]
    }
   ],
   "source": [
    "!/hpclab/users/ulf/hpc-examples/mpi-simple/mpi.sh"
   ]
  },
  {
   "cell_type": "markdown",
   "metadata": {},
   "source": [
    "Next we start the shell script via `mpiexec` to check that `PMI_SIZE` and `PMI_RANK` are set."
   ]
  },
  {
   "cell_type": "code",
   "execution_count": 3,
   "metadata": {},
   "outputs": [
    {
     "name": "stdout",
     "output_type": "stream",
     "text": [
      "My size is 1. My rank is 0.\n"
     ]
    }
   ],
   "source": [
    "!mpiexec /hpclab/users/ulf/hpc-examples/mpi-simple/mpi.sh"
   ]
  },
  {
   "cell_type": "markdown",
   "metadata": {},
   "source": [
    "Alright. Let's see the output if we start multiple application instances."
   ]
  },
  {
   "cell_type": "code",
   "execution_count": 4,
   "metadata": {},
   "outputs": [
    {
     "name": "stdout",
     "output_type": "stream",
     "text": [
      "My size is 5. My rank is 0.\n",
      "My size is 5. My rank is 1.\n",
      "My size is 5. My rank is 2.\n",
      "My size is 5. My rank is 4.\n",
      "My size is 5. My rank is 3.\n"
     ]
    }
   ],
   "source": [
    "!mpiexec -hosts c1:2,c2:3 /hpclab/users/ulf/hpc-examples/mpi-simple/mpi.sh"
   ]
  },
  {
   "cell_type": "markdown",
   "metadata": {},
   "source": [
    "So, each application instance can determine during runtime the total number of application instances using `PMI_SIZE` and `PMI_RANK` allows to identify each application instance. "
   ]
  },
  {
   "cell_type": "markdown",
   "metadata": {},
   "source": [
    "-----"
   ]
  },
  {
   "cell_type": "markdown",
   "metadata": {},
   "source": [
    "Without further means we do not know on which node each application instance is executing. This allows to optimize how many application instances to start where during the launch process.\n",
    "<br><br>\n",
    "To verify that via `mpiexec`started application instances are started on the specified nodes, we modify the shell script to report the `HOSTNAME` on which it is executing."
   ]
  },
  {
   "cell_type": "code",
   "execution_count": 5,
   "metadata": {},
   "outputs": [
    {
     "name": "stdout",
     "output_type": "stream",
     "text": [
      "#!/bin/bash\n",
      "\n",
      "HOSTNAME=`hostname`\n",
      "echo \"My size is $PMI_SIZE. My rank is $PMI_RANK. I am running on $HOSTNAME.\"\n"
     ]
    }
   ],
   "source": [
    "!cat /hpclab/users/ulf/hpc-examples/mpi-simple/mpi-with-hostname.sh"
   ]
  },
  {
   "cell_type": "markdown",
   "metadata": {},
   "source": [
    "Let's start mulitple application instances of the modified shell script."
   ]
  },
  {
   "cell_type": "code",
   "execution_count": 6,
   "metadata": {},
   "outputs": [
    {
     "name": "stdout",
     "output_type": "stream",
     "text": [
      "My size is 5. My rank is 2. I am running on c2.\n",
      "My size is 5. My rank is 0. I am running on c1.\n",
      "My size is 5. My rank is 3. I am running on c2.\n",
      "My size is 5. My rank is 1. I am running on c1.\n",
      "My size is 5. My rank is 4. I am running on c2.\n"
     ]
    }
   ],
   "source": [
    "!mpiexec -hosts c1:2,c2:3 /hpclab/users/ulf/hpc-examples/mpi-simple/mpi-with-hostname.sh"
   ]
  },
  {
   "cell_type": "markdown",
   "metadata": {},
   "source": [
    "The output proofs that the application instances are started on different servers."
   ]
  },
  {
   "cell_type": "markdown",
   "metadata": {},
   "source": [
    "-----"
   ]
  },
  {
   "cell_type": "markdown",
   "metadata": {},
   "source": [
    "This was a brief introduction into `PMI_SIZE` and `PMI_RANK`. See my [HPClab](https://www.beyond-storage.com/hpc-lab) for more [MPI examples](https://www.beyond-storage.com/examples-mpi)."
   ]
  },
  {
   "cell_type": "markdown",
   "metadata": {},
   "source": [
    "-----"
   ]
  }
 ],
 "metadata": {
  "kernelspec": {
   "display_name": "Python 2",
   "language": "python",
   "name": "python2"
  },
  "language_info": {
   "codemirror_mode": {
    "name": "ipython",
    "version": 2
   },
   "file_extension": ".py",
   "mimetype": "text/x-python",
   "name": "python",
   "nbconvert_exporter": "python",
   "pygments_lexer": "ipython2",
   "version": "2.7.16"
  }
 },
 "nbformat": 4,
 "nbformat_minor": 2
}
