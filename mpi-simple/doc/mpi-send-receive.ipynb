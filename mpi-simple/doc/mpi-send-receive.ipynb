{
 "cells": [
  {
   "cell_type": "markdown",
   "metadata": {},
   "source": [
    "# Sending and receiving MPI messages"
   ]
  },
  {
   "cell_type": "markdown",
   "metadata": {},
   "source": [
    "The MPI runtime environment provides means to send messages between application instances. Those messages can used to exchange information and to synchronize application instances."
   ]
  },
  {
   "cell_type": "markdown",
   "metadata": {},
   "source": [
    "-----\n"
   ]
  },
  {
   "cell_type": "markdown",
   "metadata": {},
   "source": [
    "In the previous examples we looked at shell scripts and C programs that reported the MPI rank and the MPI size. Without further synchronization, the execution of each\n",
    "application instance progresses independent of each other.\n",
    "<br><br>\n",
    "We now do two iterations with [the C program that we compiled in the previous example](../mpi-hello-world.c). In each iteration we launch ten application instances on each of the two compute nodes. The output of each iteration varies dedending on wich process prints its output first. Rerun this script again, if both iterations have the same output.\n",
    "<br><br>\n",
    "Iteration 1:"
   ]
  },
  {
   "cell_type": "code",
   "execution_count": 1,
   "metadata": {},
   "outputs": [
    {
     "name": "stdout",
     "output_type": "stream",
     "text": [
      "My size is 20. My rank is 1. I am running on c1.\n",
      "My size is 20. My rank is 2. I am running on c1.\n",
      "My size is 20. My rank is 3. I am running on c1.\n",
      "My size is 20. My rank is 7. I am running on c1.\n",
      "My size is 20. My rank is 0. I am running on c1.\n",
      "My size is 20. My rank is 9. I am running on c1.\n",
      "My size is 20. My rank is 12. I am running on c2.\n",
      "My size is 20. My rank is 17. I am running on c2.\n",
      "My size is 20. My rank is 4. I am running on c1.\n",
      "My size is 20. My rank is 6. I am running on c1.\n",
      "My size is 20. My rank is 11. I am running on c2.\n",
      "My size is 20. My rank is 18. I am running on c2.\n",
      "My size is 20. My rank is 5. I am running on c1.\n",
      "My size is 20. My rank is 13. I am running on c2.\n",
      "My size is 20. My rank is 8. I am running on c1.\n",
      "My size is 20. My rank is 19. I am running on c2.\n",
      "My size is 20. My rank is 10. I am running on c2.\n",
      "My size is 20. My rank is 14. I am running on c2.\n",
      "My size is 20. My rank is 15. I am running on c2.\n",
      "My size is 20. My rank is 16. I am running on c2.\n"
     ]
    }
   ],
   "source": [
    "!mpiexec -hosts c1:10,c2:10 /hpclab/users/ulf/hpc-examples/mpi-simple/mpi-hello-world"
   ]
  },
  {
   "cell_type": "markdown",
   "metadata": {},
   "source": [
    "Iteration 2:"
   ]
  },
  {
   "cell_type": "code",
   "execution_count": 2,
   "metadata": {},
   "outputs": [
    {
     "name": "stdout",
     "output_type": "stream",
     "text": [
      "My size is 20. My rank is 14. I am running on c2.\n",
      "My size is 20. My rank is 17. I am running on c2.\n",
      "My size is 20. My rank is 19. I am running on c2.\n",
      "My size is 20. My rank is 2. I am running on c1.\n",
      "My size is 20. My rank is 8. I am running on c1.\n",
      "My size is 20. My rank is 16. I am running on c2.\n",
      "My size is 20. My rank is 0. I am running on c1.\n",
      "My size is 20. My rank is 7. I am running on c1.\n",
      "My size is 20. My rank is 10. I am running on c2.\n",
      "My size is 20. My rank is 13. I am running on c2.\n",
      "My size is 20. My rank is 9. I am running on c1.\n",
      "My size is 20. My rank is 11. I am running on c2.\n",
      "My size is 20. My rank is 15. I am running on c2.\n",
      "My size is 20. My rank is 5. I am running on c1.\n",
      "My size is 20. My rank is 12. I am running on c2.\n",
      "My size is 20. My rank is 18. I am running on c2.\n",
      "My size is 20. My rank is 4. I am running on c1.\n",
      "My size is 20. My rank is 6. I am running on c1.\n",
      "My size is 20. My rank is 3. I am running on c1.\n",
      "My size is 20. My rank is 1. I am running on c1.\n"
     ]
    }
   ],
   "source": [
    "!mpiexec -hosts c1:10,c2:10 /hpclab/users/ulf/hpc-examples/mpi-simple/mpi-hello-world"
   ]
  },
  {
   "cell_type": "markdown",
   "metadata": {},
   "source": [
    "-----"
   ]
  },
  {
   "cell_type": "markdown",
   "metadata": {},
   "source": [
    "MPI supports the send/receive-programming model to exchange information and to synchronize application instances.\n",
    "<br><br>\n",
    "There is a nice [MPI example program on Wikipedia](https://en.wikipedia.org/wiki/Message_Passing_Interface#Example_program) that illustrates the MPI API calls for sending an receiving messages. Please study the explanation of the example program on Wikipedia.\n",
    "<br><br>\n",
    "We have slightly modified this example program to report the hostname of the server on which each application instance is executing."
   ]
  },
  {
   "cell_type": "code",
   "execution_count": 3,
   "metadata": {},
   "outputs": [
    {
     "name": "stdout",
     "output_type": "stream",
     "text": [
      "/*\n",
      "  \"Hello World\" MPI Test Program\n",
      "  Copied from: https://en.wikipedia.org/wiki/Message_Passing_Interface#Example_program\n",
      "  Enhanced to report hostname of node where the application instance is executed\n",
      "*/\n",
      "#include <assert.h>\n",
      "#include <stdio.h>\n",
      "#include <string.h>\n",
      "#include <mpi.h>\n",
      "#include <unistd.h>\n",
      "\n",
      "int main(int argc, char **argv)\n",
      "{\n",
      "    char hostname[256];\n",
      "\n",
      "    char buf[256];\n",
      "    int my_rank, num_procs;\n",
      "\n",
      "    /* Initialize the infrastructure necessary for communication */\n",
      "    MPI_Init(&argc, &argv);\n",
      "\n",
      "    /* Identify this process */\n",
      "    MPI_Comm_rank(MPI_COMM_WORLD, &my_rank);\n",
      "\n",
      "    /* Find out how many total processes are active */\n",
      "    MPI_Comm_size(MPI_COMM_WORLD, &num_procs);\n",
      "\n",
      "    /* Get my hostname */\n",
      "    gethostname(hostname, sizeof(hostname));\n",
      "\n",
      "    /* Until this point, all programs have been doing exactly the same.\n",
      "       Here, we check the rank to distinguish the roles of the programs */\n",
      "    if (my_rank == 0) {\n",
      "        int other_rank;\n",
      "        printf(\"I am running on %s. We have %i processes.\\n\", hostname, num_procs);\n",
      "\n",
      "        /* Send messages to all other processes */\n",
      "        for (other_rank = 1; other_rank < num_procs; other_rank++)\n",
      "        {\n",
      "            sprintf(buf, \"Hello %i!\", other_rank);\n",
      "            MPI_Send(buf, sizeof(buf), MPI_CHAR, other_rank,\n",
      "                     0, MPI_COMM_WORLD);\n",
      "        }\n",
      "\n",
      "        /* Receive messages from all other process */\n",
      "        for (other_rank = 1; other_rank < num_procs; other_rank++)\n",
      "        {\n",
      "            MPI_Recv(buf, sizeof(buf), MPI_CHAR, other_rank,\n",
      "                     0, MPI_COMM_WORLD, MPI_STATUS_IGNORE);\n",
      "            printf(\"%s\\n\", buf);\n",
      "        }\n",
      "\n",
      "    } else {\n",
      "\n",
      "        /* Receive message from process #0 */\n",
      "        MPI_Recv(buf, sizeof(buf), MPI_CHAR, 0,\n",
      "                 0, MPI_COMM_WORLD, MPI_STATUS_IGNORE);\n",
      "        assert(memcmp(buf, \"Hello \", 6) == 0),\n",
      "\n",
      "        /* Send message to process #0 */\n",
      "        sprintf(buf, \"I am running on %s. Process %i reporting for duty.\", hostname, my_rank);\n",
      "        MPI_Send(buf, sizeof(buf), MPI_CHAR, 0,\n",
      "                 0, MPI_COMM_WORLD);\n",
      "\n",
      "    }\n",
      "\n",
      "    /* Tear down the communication infrastructure */\n",
      "    MPI_Finalize();\n",
      "    return 0;\n",
      "}\n"
     ]
    }
   ],
   "source": [
    "!cat /hpclab/users/ulf/hpc-examples/mpi-simple/mpi-wikipedia-with-hostname.c"
   ]
  },
  {
   "cell_type": "markdown",
   "metadata": {},
   "source": [
    "Let's compile and link it. This does not generate any output."
   ]
  },
  {
   "cell_type": "code",
   "execution_count": 4,
   "metadata": {},
   "outputs": [],
   "source": [
    "!mpicc /hpclab/users/ulf/hpc-examples/mpi-simple/mpi-wikipedia-with-hostname.c -o /hpclab/users/ulf/hpc-examples/mpi-simple/mpi-wikipedia-with-hostname"
   ]
  },
  {
   "cell_type": "markdown",
   "metadata": {},
   "source": [
    "We now start ten application instances of the executable on two compute nodes each. The output of all application instances is now ordered by the MPI rank. Instead of `printf` we use `sprintf` to an MPI communication object. The application instance with rank `0` resceives the output of all application instances and synchronizes their output."
   ]
  },
  {
   "cell_type": "code",
   "execution_count": 5,
   "metadata": {},
   "outputs": [
    {
     "name": "stdout",
     "output_type": "stream",
     "text": [
      "I am running on c1. We have 20 processes.\n",
      "I am running on c1. Process 1 reporting for duty.\n",
      "I am running on c1. Process 2 reporting for duty.\n",
      "I am running on c1. Process 3 reporting for duty.\n",
      "I am running on c1. Process 4 reporting for duty.\n",
      "I am running on c1. Process 5 reporting for duty.\n",
      "I am running on c1. Process 6 reporting for duty.\n",
      "I am running on c1. Process 7 reporting for duty.\n",
      "I am running on c1. Process 8 reporting for duty.\n",
      "I am running on c1. Process 9 reporting for duty.\n",
      "I am running on c2. Process 10 reporting for duty.\n",
      "I am running on c2. Process 11 reporting for duty.\n",
      "I am running on c2. Process 12 reporting for duty.\n",
      "I am running on c2. Process 13 reporting for duty.\n",
      "I am running on c2. Process 14 reporting for duty.\n",
      "I am running on c2. Process 15 reporting for duty.\n",
      "I am running on c2. Process 16 reporting for duty.\n",
      "I am running on c2. Process 17 reporting for duty.\n",
      "I am running on c2. Process 18 reporting for duty.\n",
      "I am running on c2. Process 19 reporting for duty.\n"
     ]
    }
   ],
   "source": [
    "!mpiexec -hosts c1:10,c2:10 /hpclab/users/ulf/hpc-examples/mpi-simple/mpi-wikipedia-with-hostname"
   ]
  },
  {
   "cell_type": "markdown",
   "metadata": {},
   "source": [
    "-----"
   ]
  },
  {
   "cell_type": "markdown",
   "metadata": {},
   "source": [
    "This was a brief introduction in sending and recieiving messages in MPI programs. See my [HPClab](https://www.beyond-storage.com/hpc-lab) for more [MPI examples](https://www.beyond-storage.com/examples-mpi)."
   ]
  },
  {
   "cell_type": "markdown",
   "metadata": {},
   "source": [
    "-----"
   ]
  }
 ],
 "metadata": {
  "kernelspec": {
   "display_name": "Python 2",
   "language": "python",
   "name": "python2"
  },
  "language_info": {
   "codemirror_mode": {
    "name": "ipython",
    "version": 2
   },
   "file_extension": ".py",
   "mimetype": "text/x-python",
   "name": "python",
   "nbconvert_exporter": "python",
   "pygments_lexer": "ipython2",
   "version": "2.7.16"
  }
 },
 "nbformat": 4,
 "nbformat_minor": 2
}
