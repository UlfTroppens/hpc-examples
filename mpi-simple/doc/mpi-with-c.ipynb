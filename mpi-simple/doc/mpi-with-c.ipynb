{
 "cells": [
  {
   "cell_type": "markdown",
   "metadata": {},
   "source": [
    "# Getting started with MPI using C"
   ]
  },
  {
   "cell_type": "markdown",
   "metadata": {},
   "source": [
    "The MPI command `mpiexec` provides each started application instance an MPI runtime environment. C programs need to be compiled and linked using `mpicc` to activate the MPI runtime environment."
   ]
  },
  {
   "cell_type": "markdown",
   "metadata": {},
   "source": [
    "-----\n"
   ]
  },
  {
   "cell_type": "markdown",
   "metadata": {},
   "source": [
    "We start this example with a simple C program that provides the same capabilities as the [shell script of the previous example](../mpi-with-hostname.sh). Instead of getting the size and the rank from environment variables we now use MPI C API calls."
   ]
  },
  {
   "cell_type": "code",
   "execution_count": 1,
   "metadata": {},
   "outputs": [
    {
     "name": "stdout",
     "output_type": "stream",
     "text": [
      "#include <mpi.h>\n",
      "#include <stdio.h>\n",
      "#include <unistd.h>\n",
      "\n",
      "int\n",
      "main(int argc, char *argv[])\n",
      "{\n",
      "    int mpi_rank, mpi_size;\n",
      "    char hostname[256];\n",
      "\n",
      "    // Initialize MPI execution environment\n",
      "    MPI_Init(&argc, &argv);\n",
      "\n",
      "    // Get MPI size and rank\n",
      "    MPI_Comm_size(MPI_COMM_WORLD, &mpi_size);\n",
      "    MPI_Comm_rank(MPI_COMM_WORLD, &mpi_rank);\n",
      "\n",
      "    // Get my hostname\n",
      "    gethostname(hostname, sizeof(hostname));\n",
      "\n",
      "    // Report my execution context\n",
      "    printf(\"My size is %d. My rank is %d. I am running on %s.\\n\", mpi_size, mpi_rank, hostname );\n",
      "\n",
      "    // Terminate MPI execution environment\n",
      "    MPI_Finalize();\n",
      "\n",
      "    // Exit without error\n",
      "    return 0;\n",
      "}\n"
     ]
    }
   ],
   "source": [
    "!cat /hpclab/users/ulf/hpc-examples/mpi-simple/mpi-hello-world.c"
   ]
  },
  {
   "cell_type": "markdown",
   "metadata": {},
   "source": [
    "We compile and link this MPI C program with `mpicc` to assure that the MPI libraries will get loaded during runtime."
   ]
  },
  {
   "cell_type": "code",
   "execution_count": 2,
   "metadata": {},
   "outputs": [],
   "source": [
    "!mpicc /hpclab/users/ulf/hpc-examples/mpi-simple/mpi-hello-world.c -o /hpclab/users/ulf/hpc-examples/mpi-simple/mpi-hello-world"
   ]
  },
  {
   "cell_type": "markdown",
   "metadata": {},
   "source": [
    "The exectuable program is directly availalbe on all cluster nodes, because we are working in an NFS file system."
   ]
  },
  {
   "cell_type": "code",
   "execution_count": 3,
   "metadata": {},
   "outputs": [
    {
     "name": "stdout",
     "output_type": "stream",
     "text": [
      "Filesystem                   Size  Used Avail Use% Mounted on\n",
      "m1:/nfsexports/hpclab/users   40G   15G   26G  36% /hpclab/users\n"
     ]
    }
   ],
   "source": [
    "!df -h ."
   ]
  },
  {
   "cell_type": "markdown",
   "metadata": {},
   "source": [
    "Alright. Let's see the output if we start multiple application instances."
   ]
  },
  {
   "cell_type": "code",
   "execution_count": 4,
   "metadata": {},
   "outputs": [
    {
     "name": "stdout",
     "output_type": "stream",
     "text": [
      "My size is 5. My rank is 0. I am running on c1.\n",
      "My size is 5. My rank is 1. I am running on c1.\n",
      "My size is 5. My rank is 2. I am running on c2.\n",
      "My size is 5. My rank is 3. I am running on c2.\n",
      "My size is 5. My rank is 4. I am running on c2.\n"
     ]
    }
   ],
   "source": [
    "!mpiexec -hosts c1:2,c2:3 /hpclab/users/ulf/hpc-examples/mpi-simple/mpi-hello-world"
   ]
  },
  {
   "cell_type": "markdown",
   "metadata": {},
   "source": [
    "So, the compiled C program provides as similar output as the shell script used in the previous example."
   ]
  },
  {
   "cell_type": "markdown",
   "metadata": {},
   "source": [
    "-----"
   ]
  },
  {
   "cell_type": "markdown",
   "metadata": {},
   "source": [
    "This was a brief introduction into compiling and linking MPI C programs. See my [HPClab](https://www.beyond-storage.com/hpc-lab) for more [MPI examples](https://www.beyond-storage.com/examples-mpi)."
   ]
  },
  {
   "cell_type": "markdown",
   "metadata": {},
   "source": [
    "-----"
   ]
  }
 ],
 "metadata": {
  "kernelspec": {
   "display_name": "Python 2",
   "language": "python",
   "name": "python2"
  },
  "language_info": {
   "codemirror_mode": {
    "name": "ipython",
    "version": 2
   },
   "file_extension": ".py",
   "mimetype": "text/x-python",
   "name": "python",
   "nbconvert_exporter": "python",
   "pygments_lexer": "ipython2",
   "version": "2.7.16"
  }
 },
 "nbformat": 4,
 "nbformat_minor": 2
}
